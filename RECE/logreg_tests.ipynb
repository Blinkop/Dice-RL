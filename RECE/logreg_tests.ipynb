{
 "cells": [
  {
   "cell_type": "code",
   "execution_count": 144,
   "id": "1ce0130c-9ee8-4497-b999-97788bd983f7",
   "metadata": {},
   "outputs": [
    {
     "name": "stdout",
     "output_type": "stream",
     "text": [
      "The autoreload extension is already loaded. To reload it, use:\n",
      "  %reload_ext autoreload\n"
     ]
    }
   ],
   "source": [
    "%load_ext autoreload\n",
    "%autoreload 2\n",
    "    \n",
    "from data import get_dataset, data_to_sequences\n",
    "from eval_utils import sasrec_model_scoring\n",
    "\n",
    "from time import time\n",
    "from functools import reduce\n",
    "import uuid\n",
    "from tqdm import tqdm\n",
    "import os\n",
    "\n",
    "from clearml import Task, Logger\n",
    "from omegaconf import OmegaConf\n",
    "import hydra\n",
    "\n",
    "import numpy as np\n",
    "import torch\n",
    "from torch.utils.data import DataLoader\n",
    "\n",
    "from model import SASRec\n",
    "from data import get_dataset, data_to_sequences, SequentialDataset\n",
    "from utils import topn_recommendations, downvote_seen_items\n",
    "from eval_utils import model_evaluate, sasrec_model_scoring, get_test_scores\n",
    "\n",
    "from sklearn.linear_model import LogisticRegression\n",
    "\n",
    "os.environ['CUDA_VISIBLE_DEVICES'] = '5'\n",
    "device='cuda'"
   ]
  },
  {
   "cell_type": "code",
   "execution_count": 140,
   "id": "1cc7fe24-0cc8-4004-9f9f-9ea08853241c",
   "metadata": {},
   "outputs": [
    {
     "name": "stdout",
     "output_type": "stream",
     "text": [
      "Filtered 115 invalid observations.\n",
      "Filtered 11 invalid observations.\n",
      "Filtered 4 invalid observations.\n"
     ]
    },
    {
     "data": {
      "text/plain": [
       "{'users': 'userid',\n",
       " 'items': 'itemid',\n",
       " 'order': 'timestamp',\n",
       " 'n_users': 5400,\n",
       " 'n_items': 3658}"
      ]
     },
     "execution_count": 140,
     "metadata": {},
     "output_type": "execute_result"
    }
   ],
   "source": [
    "_, data_description_temp, testset_valid_temp, _, holdout_valid_temp, _ = get_dataset(splitting='temporal_full', q=0.8)\n",
    "data_description_temp"
   ]
  },
  {
   "cell_type": "code",
   "execution_count": 141,
   "id": "d685a4c3-70da-4c53-b3ad-13bb9d86ea9d",
   "metadata": {},
   "outputs": [
    {
     "name": "stdout",
     "output_type": "stream",
     "text": [
      "userid         1783\n",
      "itemid         3511\n",
      "rating            5\n",
      "timestamp    110948\n",
      "dtype: int64\n",
      "Filtered 115 invalid observations.\n",
      "Filtered 11 invalid observations.\n",
      "Filtered 4 invalid observations.\n",
      "userid         1783\n",
      "itemid         3464\n",
      "rating            5\n",
      "timestamp    110850\n",
      "dtype: int64\n",
      "Filtered 107 invalid observations.\n",
      "Filtered 8 invalid observations.\n",
      "Filtered 13 invalid observations.\n",
      "Filtered 2 invalid observations.\n"
     ]
    },
    {
     "data": {
      "text/plain": [
       "{'users': 'userid',\n",
       " 'items': 'itemid',\n",
       " 'order': 'timestamp',\n",
       " 'n_users': 5400,\n",
       " 'n_items': 3658}"
      ]
     },
     "execution_count": 141,
     "metadata": {},
     "output_type": "execute_result"
    }
   ],
   "source": [
    "_, data_description_full, testset_valid_full, _, holdout_valid_full, _ = get_dataset(splitting='full', q=0.8)\n",
    "data_description_full"
   ]
  },
  {
   "cell_type": "code",
   "execution_count": null,
   "id": "b0c8f0df-7e28-4b47-a797-372974599bda",
   "metadata": {},
   "outputs": [],
   "source": [
    "SUBSEQS = \n",
    "GT_SUBSEQ = \n",
    "список_из_логитов_для_каждого_айтема, ембеддинг_стейта_перед_предсказанием = sasrec_model_scoring(model, SUBSEQS, data_description, device=)\n",
    "\n",
    "логрег(ембеддинг_стейта_перед_предсказанием, гт) валидация? тест? чтоб чекнуть?"
   ]
  },
  {
   "cell_type": "code",
   "execution_count": null,
   "id": "e452224c-8a7a-495f-918c-6a29b14befee",
   "metadata": {},
   "outputs": [],
   "source": []
  },
  {
   "cell_type": "code",
   "execution_count": 4,
   "id": "7885dab9-a1c4-4426-893f-acaf7ccb076b",
   "metadata": {},
   "outputs": [],
   "source": [
    "base_config = dict(\n",
    "    num_epochs = 1,\n",
    "    maxlen = 10,\n",
    "    hidden_units = 64,\n",
    "    dropout_rate = 0.3,\n",
    "    num_blocks = 2,\n",
    "    num_heads = 1,\n",
    "    batch_size = 4,\n",
    "    learning_rate = 1e-3,\n",
    "    fwd_type = 'ce',\n",
    "    l2_emb = 0,\n",
    "    manual_seed = 123,\n",
    "    sampler_seed = 123,\n",
    "    patience = 10,\n",
    "    skip_epochs = 1\n",
    ")"
   ]
  },
  {
   "cell_type": "code",
   "execution_count": 19,
   "id": "5a9ef1f2-d090-4bbe-9d21-dce09a2122a0",
   "metadata": {
    "scrolled": true
   },
   "outputs": [
    {
     "data": {
      "text/plain": [
       "SASRec(\n",
       "  (item_emb): Embedding(3660, 64, padding_idx=3659)\n",
       "  (pos_emb): Embedding(10, 64)\n",
       "  (emb_dropout): Dropout(p=0.3, inplace=False)\n",
       "  (attention_layernorms): ModuleList(\n",
       "    (0-1): 2 x LayerNorm((64,), eps=1e-08, elementwise_affine=True)\n",
       "  )\n",
       "  (attention_layers): ModuleList(\n",
       "    (0-1): 2 x MultiheadAttention(\n",
       "      (out_proj): NonDynamicallyQuantizableLinear(in_features=64, out_features=64, bias=True)\n",
       "    )\n",
       "  )\n",
       "  (forward_layernorms): ModuleList(\n",
       "    (0-1): 2 x LayerNorm((64,), eps=1e-08, elementwise_affine=True)\n",
       "  )\n",
       "  (forward_layers): ModuleList(\n",
       "    (0-1): 2 x PointWiseFeedForward(\n",
       "      (conv1): Conv1d(64, 64, kernel_size=(1,), stride=(1,))\n",
       "      (dropout1): Dropout(p=0.3, inplace=False)\n",
       "      (relu): ReLU()\n",
       "      (conv2): Conv1d(64, 64, kernel_size=(1,), stride=(1,))\n",
       "      (dropout2): Dropout(p=0.3, inplace=False)\n",
       "    )\n",
       "  )\n",
       "  (last_layernorm): LayerNorm((64,), eps=1e-08, elementwise_affine=True)\n",
       ")"
      ]
     },
     "execution_count": 19,
     "metadata": {},
     "output_type": "execute_result"
    }
   ],
   "source": [
    "n_users = data_description['n_users']\n",
    "n_items = data_description['n_items']\n",
    "model = SASRec(n_items, base_config).to(device)\n",
    "\n",
    "model.eval()"
   ]
  },
  {
   "cell_type": "code",
   "execution_count": 20,
   "id": "bfcc09ec-39dd-45e6-9e51-1b608ac384a8",
   "metadata": {},
   "outputs": [
    {
     "data": {
      "text/plain": [
       "Parameter containing:\n",
       "tensor([[-0.0164,  0.0013, -0.0199,  ...,  0.0332, -0.0379, -0.0270],\n",
       "        [-0.0160,  0.0016, -0.0094,  ..., -0.0199,  0.0177,  0.0157],\n",
       "        [ 0.0112,  0.0317, -0.0162,  ..., -0.0389, -0.0341, -0.0391],\n",
       "        ...,\n",
       "        [ 0.0075, -0.0049, -0.0062,  ..., -0.0387, -0.0139, -0.0225],\n",
       "        [-0.0234,  0.0156,  0.0289,  ..., -0.0089, -0.0065, -0.0019],\n",
       "        [ 0.0385, -0.0192, -0.0353,  ...,  0.0030, -0.0096, -0.0273]],\n",
       "       device='cuda:0', requires_grad=True)"
      ]
     },
     "execution_count": 20,
     "metadata": {},
     "output_type": "execute_result"
    }
   ],
   "source": [
    "model.item_emb.weight"
   ]
  },
  {
   "cell_type": "code",
   "execution_count": 16,
   "id": "40f6b734-5e5e-46b0-afa3-6c209ec44c8c",
   "metadata": {},
   "outputs": [],
   "source": [
    "seqs1 = data_to_sequences(testset_valid, data_description)"
   ]
  },
  {
   "cell_type": "code",
   "execution_count": 24,
   "id": "4844fd08-d033-4cac-864f-a944f47acc0e",
   "metadata": {},
   "outputs": [
    {
     "data": {
      "text/html": [
       "<div>\n",
       "<style scoped>\n",
       "    .dataframe tbody tr th:only-of-type {\n",
       "        vertical-align: middle;\n",
       "    }\n",
       "\n",
       "    .dataframe tbody tr th {\n",
       "        vertical-align: top;\n",
       "    }\n",
       "\n",
       "    .dataframe thead th {\n",
       "        text-align: right;\n",
       "    }\n",
       "</style>\n",
       "<table border=\"1\" class=\"dataframe\">\n",
       "  <thead>\n",
       "    <tr style=\"text-align: right;\">\n",
       "      <th></th>\n",
       "      <th>userid</th>\n",
       "      <th>itemid</th>\n",
       "      <th>rating</th>\n",
       "      <th>timestamp</th>\n",
       "    </tr>\n",
       "  </thead>\n",
       "  <tbody>\n",
       "    <tr>\n",
       "      <th>0</th>\n",
       "      <td>1</td>\n",
       "      <td>1086</td>\n",
       "      <td>5</td>\n",
       "      <td>978300760</td>\n",
       "    </tr>\n",
       "    <tr>\n",
       "      <th>1</th>\n",
       "      <td>1</td>\n",
       "      <td>632</td>\n",
       "      <td>3</td>\n",
       "      <td>978302109</td>\n",
       "    </tr>\n",
       "    <tr>\n",
       "      <th>2</th>\n",
       "      <td>1</td>\n",
       "      <td>838</td>\n",
       "      <td>3</td>\n",
       "      <td>978301968</td>\n",
       "    </tr>\n",
       "    <tr>\n",
       "      <th>3</th>\n",
       "      <td>1</td>\n",
       "      <td>3136</td>\n",
       "      <td>4</td>\n",
       "      <td>978300275</td>\n",
       "    </tr>\n",
       "    <tr>\n",
       "      <th>4</th>\n",
       "      <td>1</td>\n",
       "      <td>2132</td>\n",
       "      <td>5</td>\n",
       "      <td>978824291</td>\n",
       "    </tr>\n",
       "    <tr>\n",
       "      <th>...</th>\n",
       "      <td>...</td>\n",
       "      <td>...</td>\n",
       "      <td>...</td>\n",
       "      <td>...</td>\n",
       "    </tr>\n",
       "    <tr>\n",
       "      <th>177</th>\n",
       "      <td>2</td>\n",
       "      <td>346</td>\n",
       "      <td>5</td>\n",
       "      <td>978299686</td>\n",
       "    </tr>\n",
       "    <tr>\n",
       "      <th>178</th>\n",
       "      <td>2</td>\n",
       "      <td>1135</td>\n",
       "      <td>2</td>\n",
       "      <td>978299200</td>\n",
       "    </tr>\n",
       "    <tr>\n",
       "      <th>179</th>\n",
       "      <td>2</td>\n",
       "      <td>1136</td>\n",
       "      <td>5</td>\n",
       "      <td>978299418</td>\n",
       "    </tr>\n",
       "    <tr>\n",
       "      <th>180</th>\n",
       "      <td>2</td>\n",
       "      <td>3600</td>\n",
       "      <td>1</td>\n",
       "      <td>978299535</td>\n",
       "    </tr>\n",
       "    <tr>\n",
       "      <th>181</th>\n",
       "      <td>2</td>\n",
       "      <td>1137</td>\n",
       "      <td>5</td>\n",
       "      <td>978298652</td>\n",
       "    </tr>\n",
       "  </tbody>\n",
       "</table>\n",
       "<p>180 rows × 4 columns</p>\n",
       "</div>"
      ],
      "text/plain": [
       "     userid  itemid  rating  timestamp\n",
       "0         1    1086       5  978300760\n",
       "1         1     632       3  978302109\n",
       "2         1     838       3  978301968\n",
       "3         1    3136       4  978300275\n",
       "4         1    2132       5  978824291\n",
       "..      ...     ...     ...        ...\n",
       "177       2     346       5  978299686\n",
       "178       2    1135       2  978299200\n",
       "179       2    1136       5  978299418\n",
       "180       2    3600       1  978299535\n",
       "181       2    1137       5  978298652\n",
       "\n",
       "[180 rows x 4 columns]"
      ]
     },
     "execution_count": 24,
     "metadata": {},
     "output_type": "execute_result"
    }
   ],
   "source": [
    "subset = testset_valid[testset_valid.userid < 3]\n",
    "subset"
   ]
  },
  {
   "cell_type": "code",
   "execution_count": 106,
   "id": "fe32c5a3-d165-4ebf-b653-9641f3eac5fa",
   "metadata": {},
   "outputs": [
    {
     "data": {
      "text/plain": [
       "array([[0.3327778 , 0.00746917, 0.12461472, ..., 0.22785743, 0.13299876,\n",
       "        0.10108273],\n",
       "       [0.3598424 , 0.0702517 , 0.13007008, ..., 0.24712753, 0.04797748,\n",
       "        0.17051247]], dtype=float32)"
      ]
     },
     "execution_count": 106,
     "metadata": {},
     "output_type": "execute_result"
    }
   ],
   "source": [
    "test_sequences = data_to_sequences(subset, data_description)\n",
    "\n",
    "scores = []\n",
    "for _, seq in test_sequences.items():\n",
    "    with torch.no_grad():\n",
    "        predictions = model.score(torch.tensor(seq, device=device, dtype=torch.long))\n",
    "    scores.append(predictions.detach().cpu().numpy())\n",
    "a = np.concatenate(scores, axis=0)\n",
    "a"
   ]
  },
  {
   "cell_type": "code",
   "execution_count": 151,
   "id": "1e284174-588f-4cc9-83a2-d970133a1e10",
   "metadata": {},
   "outputs": [
    {
     "data": {
      "text/plain": [
       "tensor([ 0.8240,  0.0203, -0.6111, -0.2323,  0.1054, -0.3582, -0.1421, -0.3221,\n",
       "        -0.4069,  0.9805, -0.3981,  0.9406, -1.2298, -1.2345, -2.0832,  0.3218,\n",
       "         1.6107, -1.0859, -1.7604,  1.5930, -1.0390,  1.8432, -0.8485,  1.3047,\n",
       "         0.8276,  0.0060, -0.3096,  1.6431, -0.6786, -1.1276,  0.7542,  0.2431,\n",
       "        -0.7762,  0.0750, -0.2243,  0.8205, -0.9569, -0.4007, -1.2098, -0.1817,\n",
       "        -0.2230, -0.6141, -0.1028, -0.5813,  0.9197,  1.6171, -1.5417,  1.8323,\n",
       "         0.8317, -0.3831,  1.5476,  0.9742, -1.5195,  0.7749, -0.7665, -0.1304,\n",
       "        -0.0973,  0.9355,  2.4113,  0.6006, -0.6536, -0.9658, -0.8672, -0.2947],\n",
       "       device='cuda:0', grad_fn=<SelectBackward0>)"
      ]
     },
     "execution_count": 151,
     "metadata": {},
     "output_type": "execute_result"
    }
   ],
   "source": [
    "_, a = model.score_with_state(torch.tensor(seq, device=device, dtype=torch.long))\n",
    "a"
   ]
  },
  {
   "cell_type": "code",
   "execution_count": 109,
   "id": "08822cbb-9868-498a-9170-1c3f52cd54bd",
   "metadata": {},
   "outputs": [
    {
     "data": {
      "text/plain": [
       "2"
      ]
     },
     "execution_count": 109,
     "metadata": {},
     "output_type": "execute_result"
    }
   ],
   "source": [
    "len(test_sequences)"
   ]
  },
  {
   "cell_type": "code",
   "execution_count": 49,
   "id": "3aacca04-2182-4d9e-961e-9f26ad82e797",
   "metadata": {},
   "outputs": [
    {
     "data": {
      "text/plain": [
       "[1090,\n",
       " 1102,\n",
       " 1109,\n",
       " 2479,\n",
       " 1183,\n",
       " 2702,\n",
       " 1117,\n",
       " 1086,\n",
       " 309,\n",
       " 2783,\n",
       " 2618,\n",
       " 1105,\n",
       " 1739,\n",
       " 1099,\n",
       " 573,\n",
       " 2846,\n",
       " 3194,\n",
       " 1668,\n",
       " 498,\n",
       " 1001,\n",
       " 2277,\n",
       " 2788,\n",
       " 106,\n",
       " 1860,\n",
       " 2898,\n",
       " 1137,\n",
       " 2856,\n",
       " 1241,\n",
       " 1088,\n",
       " 1751,\n",
       " 1747,\n",
       " 844,\n",
       " 1631,\n",
       " 995,\n",
       " 1756,\n",
       " 3197,\n",
       " 3370,\n",
       " 3450,\n",
       " 1149,\n",
       " 1748,\n",
       " 1595,\n",
       " 2490,\n",
       " 1762,\n",
       " 1014,\n",
       " 826,\n",
       " 3178,\n",
       " 3300,\n",
       " 2612,\n",
       " 3067,\n",
       " 2820,\n",
       " 258,\n",
       " 2090,\n",
       " 570,\n",
       " 1143,\n",
       " 2823,\n",
       " 1134,\n",
       " 3415,\n",
       " 1749,\n",
       " 1135,\n",
       " 2017,\n",
       " 3394,\n",
       " 905,\n",
       " 1987,\n",
       " 2049,\n",
       " 1317,\n",
       " 2995,\n",
       " 620,\n",
       " 228,\n",
       " 1007,\n",
       " 1030,\n",
       " 481,\n",
       " 1136,\n",
       " 3600,\n",
       " 1394,\n",
       " 1081,\n",
       " 2173,\n",
       " 2136,\n",
       " 2098,\n",
       " 346,\n",
       " 2859,\n",
       " 1155,\n",
       " 3521,\n",
       " 569,\n",
       " 1822,\n",
       " 2344,\n",
       " 440,\n",
       " 2675,\n",
       " 1456,\n",
       " 463,\n",
       " 157,\n",
       " 370,\n",
       " 3145,\n",
       " 2996,\n",
       " 1286,\n",
       " 20,\n",
       " 339,\n",
       " 1386,\n",
       " 2130,\n",
       " 1800,\n",
       " 2057,\n",
       " 1251,\n",
       " 621,\n",
       " 2204,\n",
       " 1600,\n",
       " 1253,\n",
       " 1407,\n",
       " 2266,\n",
       " 1266,\n",
       " 726,\n",
       " 2641,\n",
       " 2858,\n",
       " 358,\n",
       " 1607,\n",
       " 159,\n",
       " 442,\n",
       " 425,\n",
       " 1444,\n",
       " 2394,\n",
       " 1531,\n",
       " 2997,\n",
       " 693,\n",
       " 1796,\n",
       " 1919,\n",
       " 283,\n",
       " 92,\n",
       " 1528,\n",
       " 417,\n",
       " 1712]"
      ]
     },
     "execution_count": 49,
     "metadata": {},
     "output_type": "execute_result"
    }
   ],
   "source": [
    "seq"
   ]
  },
  {
   "cell_type": "code",
   "execution_count": 26,
   "id": "e5ba83ce-08ef-4b9b-a34c-c182ff119414",
   "metadata": {},
   "outputs": [
    {
     "data": {
      "text/plain": [
       "(2, 3660)"
      ]
     },
     "execution_count": 26,
     "metadata": {},
     "output_type": "execute_result"
    }
   ],
   "source": [
    "a.shape"
   ]
  },
  {
   "cell_type": "code",
   "execution_count": 38,
   "id": "71179e86-b108-4d13-926e-305010e6fdaa",
   "metadata": {},
   "outputs": [
    {
     "data": {
      "text/plain": [
       "tensor(700, device='cuda:0')"
      ]
     },
     "execution_count": 38,
     "metadata": {},
     "output_type": "execute_result"
    }
   ],
   "source": [
    "predictions[0].argmax()"
   ]
  },
  {
   "cell_type": "code",
   "execution_count": 45,
   "id": "5ae1bf91-f13f-4064-8b21-dc36560057a9",
   "metadata": {},
   "outputs": [
    {
     "data": {
      "text/plain": [
       "array([0.3598424 , 0.0702517 , 0.13007008, ..., 0.24712753, 0.04797748,\n",
       "       0.17051247], dtype=float32)"
      ]
     },
     "execution_count": 45,
     "metadata": {},
     "output_type": "execute_result"
    }
   ],
   "source": [
    "predictions[0].detach().cpu().numpy()"
   ]
  },
  {
   "cell_type": "code",
   "execution_count": 46,
   "id": "9ff8e360-4790-44e2-bf58-938a9c9398d4",
   "metadata": {},
   "outputs": [
    {
     "data": {
      "text/plain": [
       "tensor(0.0006)"
      ]
     },
     "execution_count": 46,
     "metadata": {},
     "output_type": "execute_result"
    }
   ],
   "source": [
    "torch.softmax(predictions[0].detach().cpu(), 0)[700]"
   ]
  },
  {
   "cell_type": "code",
   "execution_count": 51,
   "id": "9d2c91b5-d3a3-42f0-a740-793db5ee003e",
   "metadata": {},
   "outputs": [],
   "source": [
    "def score_policy_e(at, seqt, model, device):\n",
    "    \n",
    "    with torch.no_grad():\n",
    "        predictions = model.score(torch.tensor(seqt, device=device, dtype=torch.long)).detach().cpu()[0]\n",
    "    \n",
    "    proba_at = torch.softmax(predictions, 0)[at].numpy()\n",
    "    \n",
    "    return proba_at"
   ]
  },
  {
   "cell_type": "code",
   "execution_count": 61,
   "id": "a5471ad3-ac02-4f88-8de8-5cde689891ac",
   "metadata": {},
   "outputs": [
    {
     "data": {
      "text/plain": [
       "array(0.00032329, dtype=float32)"
      ]
     },
     "execution_count": 61,
     "metadata": {},
     "output_type": "execute_result"
    }
   ],
   "source": [
    "score_policy_e(3, seq, model, device='cuda')"
   ]
  },
  {
   "cell_type": "code",
   "execution_count": 65,
   "id": "8c00f805-c9b5-4206-b5c2-879ed17ecc09",
   "metadata": {},
   "outputs": [
    {
     "data": {
      "text/plain": [
       "[1090, 1102, 1109, 2479, 1183, 2702, 1117, 1086, 309, 2783]"
      ]
     },
     "execution_count": 65,
     "metadata": {},
     "output_type": "execute_result"
    }
   ],
   "source": [
    "test_seq = seq[:10]\n",
    "test_seq"
   ]
  },
  {
   "cell_type": "code",
   "execution_count": 73,
   "id": "aa59e836-5a92-4d1b-85c8-af1cf61f45da",
   "metadata": {},
   "outputs": [
    {
     "data": {
      "text/plain": [
       "[1090, 1102, 1109, 2479, 1183, 2702, 1117, 1086, 309, 2783]"
      ]
     },
     "execution_count": 73,
     "metadata": {},
     "output_type": "execute_result"
    }
   ],
   "source": [
    "test_seq"
   ]
  },
  {
   "cell_type": "code",
   "execution_count": 134,
   "id": "01a9425a-f4a9-4ca2-82ad-ac8cb92baaad",
   "metadata": {},
   "outputs": [
    {
     "data": {
      "text/plain": [
       "[(1102, [1090]),\n",
       " (1109, [1090, 1102]),\n",
       " (2479, [1090, 1102, 1109]),\n",
       " (1183, [1090, 1102, 1109, 2479]),\n",
       " (2702, [1090, 1102, 1109, 2479, 1183]),\n",
       " (1117, [1090, 1102, 1109, 2479, 1183, 2702]),\n",
       " (1086, [1090, 1102, 1109, 2479, 1183, 2702, 1117]),\n",
       " (309, [1090, 1102, 1109, 2479, 1183, 2702, 1117, 1086]),\n",
       " (2783, [1090, 1102, 1109, 2479, 1183, 2702, 1117, 1086, 309])]"
      ]
     },
     "execution_count": 134,
     "metadata": {},
     "output_type": "execute_result"
    }
   ],
   "source": [
    "subseqs_h = []\n",
    "seqt = test_seq.copy()\n",
    "N = 3\n",
    "\n",
    "for i in range(len(test_seq)-1):\n",
    "    at = seqt.pop()\n",
    "    subseqs_h.append((at, seqt.copy()))\n",
    "subseqs_h[::-1]"
   ]
  },
  {
   "cell_type": "code",
   "execution_count": 139,
   "id": "c415ef3b-f995-4e53-86cc-c7df047b6601",
   "metadata": {},
   "outputs": [
    {
     "data": {
      "text/plain": [
       "[(1102, [1090]),\n",
       " (1109, [1090, 1102]),\n",
       " (2479, [1090, 1102, 1109]),\n",
       " (1183, [1102, 1109, 2479]),\n",
       " (2702, [1109, 2479, 1183]),\n",
       " (1117, [2479, 1183, 2702]),\n",
       " (1086, [1183, 2702, 1117]),\n",
       " (309, [2702, 1117, 1086]),\n",
       " (2783, [1117, 1086, 309])]"
      ]
     },
     "execution_count": 139,
     "metadata": {},
     "output_type": "execute_result"
    }
   ],
   "source": [
    "N = 3\n",
    "subseqs_h = []\n",
    "seqt = test_seq.copy()\n",
    "\n",
    "for i in range(len(test_seq)-1):\n",
    "    at = seqt.pop()\n",
    "    subseqs_h.append((at, seqt[-N:]))\n",
    "subseqs_h[::-1]"
   ]
  },
  {
   "cell_type": "code",
   "execution_count": null,
   "id": "34ef6789-43bc-4f55-928d-efd7842640f0",
   "metadata": {},
   "outputs": [],
   "source": []
  },
  {
   "cell_type": "code",
   "execution_count": null,
   "id": "9ebe0709-76b7-44ac-aceb-79f9da4f885f",
   "metadata": {},
   "outputs": [],
   "source": []
  },
  {
   "cell_type": "code",
   "execution_count": 268,
   "id": "9b239be5-5462-4806-b475-cbfe6c9f96e3",
   "metadata": {},
   "outputs": [],
   "source": [
    "def build_model_D(training_D, model_D_sasrec, n, data_description):\n",
    "    model_D_sasrec.eval()\n",
    "    states = []\n",
    "    actions = []\n",
    "    \n",
    "    full_sequences = data_to_sequences(training_D, data_description)\n",
    "    for _, h in tqdm(full_sequences.items()):\n",
    "\n",
    "        subseqs_h = []\n",
    "        seqt = h.copy()\n",
    "        for i in range(len(h)-1):\n",
    "            at = seqt.pop()\n",
    "            subseqs_h.append((at, seqt[-n:]))\n",
    "\n",
    "        # subseqs_h = []\n",
    "        # seqt = h.copy()\n",
    "        # for i in range(1):\n",
    "        #     at = seqt.pop()\n",
    "        #     subseqs_h.append((at, seqt[-n:]))\n",
    "\n",
    "        for at, subseq in subseqs_h:\n",
    "            with torch.no_grad():\n",
    "                _, state = model_D_sasrec.score_with_state(torch.tensor(subseq, device=device, dtype=torch.long))\n",
    "                states.append(state.detach().cpu().numpy())\n",
    "                actions.append(at)\n",
    "                \n",
    "    # должно фититься на всех айтемах (все экшены должны быть в таргете хоть раз)\n",
    "    model_D = LogisticRegression(multi_class='multinomial', max_iter=1).fit(states, actions) #!!!!!\n",
    "    \n",
    "    return model_D"
   ]
  },
  {
   "cell_type": "code",
   "execution_count": 269,
   "id": "e70c03fb-c4a4-499e-96dc-00a0f44cea49",
   "metadata": {},
   "outputs": [
    {
     "name": "stderr",
     "output_type": "stream",
     "text": [
      "6040it [00:15, 399.49it/s]\n",
      "/usr/local/lib/python3.10/dist-packages/sklearn/linear_model/_logistic.py:458: ConvergenceWarning: lbfgs failed to converge (status=1):\n",
      "STOP: TOTAL NO. of ITERATIONS REACHED LIMIT.\n",
      "\n",
      "Increase the number of iterations (max_iter) or scale the data as shown in:\n",
      "    https://scikit-learn.org/stable/modules/preprocessing.html\n",
      "Please also refer to the documentation for alternative solver options:\n",
      "    https://scikit-learn.org/stable/modules/linear_model.html#logistic-regression\n",
      "  n_iter_i = _check_optimize_result(\n"
     ]
    },
    {
     "data": {
      "text/html": [
       "<style>#sk-container-id-11 {color: black;background-color: white;}#sk-container-id-11 pre{padding: 0;}#sk-container-id-11 div.sk-toggleable {background-color: white;}#sk-container-id-11 label.sk-toggleable__label {cursor: pointer;display: block;width: 100%;margin-bottom: 0;padding: 0.3em;box-sizing: border-box;text-align: center;}#sk-container-id-11 label.sk-toggleable__label-arrow:before {content: \"▸\";float: left;margin-right: 0.25em;color: #696969;}#sk-container-id-11 label.sk-toggleable__label-arrow:hover:before {color: black;}#sk-container-id-11 div.sk-estimator:hover label.sk-toggleable__label-arrow:before {color: black;}#sk-container-id-11 div.sk-toggleable__content {max-height: 0;max-width: 0;overflow: hidden;text-align: left;background-color: #f0f8ff;}#sk-container-id-11 div.sk-toggleable__content pre {margin: 0.2em;color: black;border-radius: 0.25em;background-color: #f0f8ff;}#sk-container-id-11 input.sk-toggleable__control:checked~div.sk-toggleable__content {max-height: 200px;max-width: 100%;overflow: auto;}#sk-container-id-11 input.sk-toggleable__control:checked~label.sk-toggleable__label-arrow:before {content: \"▾\";}#sk-container-id-11 div.sk-estimator input.sk-toggleable__control:checked~label.sk-toggleable__label {background-color: #d4ebff;}#sk-container-id-11 div.sk-label input.sk-toggleable__control:checked~label.sk-toggleable__label {background-color: #d4ebff;}#sk-container-id-11 input.sk-hidden--visually {border: 0;clip: rect(1px 1px 1px 1px);clip: rect(1px, 1px, 1px, 1px);height: 1px;margin: -1px;overflow: hidden;padding: 0;position: absolute;width: 1px;}#sk-container-id-11 div.sk-estimator {font-family: monospace;background-color: #f0f8ff;border: 1px dotted black;border-radius: 0.25em;box-sizing: border-box;margin-bottom: 0.5em;}#sk-container-id-11 div.sk-estimator:hover {background-color: #d4ebff;}#sk-container-id-11 div.sk-parallel-item::after {content: \"\";width: 100%;border-bottom: 1px solid gray;flex-grow: 1;}#sk-container-id-11 div.sk-label:hover label.sk-toggleable__label {background-color: #d4ebff;}#sk-container-id-11 div.sk-serial::before {content: \"\";position: absolute;border-left: 1px solid gray;box-sizing: border-box;top: 0;bottom: 0;left: 50%;z-index: 0;}#sk-container-id-11 div.sk-serial {display: flex;flex-direction: column;align-items: center;background-color: white;padding-right: 0.2em;padding-left: 0.2em;position: relative;}#sk-container-id-11 div.sk-item {position: relative;z-index: 1;}#sk-container-id-11 div.sk-parallel {display: flex;align-items: stretch;justify-content: center;background-color: white;position: relative;}#sk-container-id-11 div.sk-item::before, #sk-container-id-11 div.sk-parallel-item::before {content: \"\";position: absolute;border-left: 1px solid gray;box-sizing: border-box;top: 0;bottom: 0;left: 50%;z-index: -1;}#sk-container-id-11 div.sk-parallel-item {display: flex;flex-direction: column;z-index: 1;position: relative;background-color: white;}#sk-container-id-11 div.sk-parallel-item:first-child::after {align-self: flex-end;width: 50%;}#sk-container-id-11 div.sk-parallel-item:last-child::after {align-self: flex-start;width: 50%;}#sk-container-id-11 div.sk-parallel-item:only-child::after {width: 0;}#sk-container-id-11 div.sk-dashed-wrapped {border: 1px dashed gray;margin: 0 0.4em 0.5em 0.4em;box-sizing: border-box;padding-bottom: 0.4em;background-color: white;}#sk-container-id-11 div.sk-label label {font-family: monospace;font-weight: bold;display: inline-block;line-height: 1.2em;}#sk-container-id-11 div.sk-label-container {text-align: center;}#sk-container-id-11 div.sk-container {/* jupyter's `normalize.less` sets `[hidden] { display: none; }` but bootstrap.min.css set `[hidden] { display: none !important; }` so we also need the `!important` here to be able to override the default hidden behavior on the sphinx rendered scikit-learn.org. See: https://github.com/scikit-learn/scikit-learn/issues/21755 */display: inline-block !important;position: relative;}#sk-container-id-11 div.sk-text-repr-fallback {display: none;}</style><div id=\"sk-container-id-11\" class=\"sk-top-container\"><div class=\"sk-text-repr-fallback\"><pre>LogisticRegression(max_iter=1, multi_class=&#x27;multinomial&#x27;)</pre><b>In a Jupyter environment, please rerun this cell to show the HTML representation or trust the notebook. <br />On GitHub, the HTML representation is unable to render, please try loading this page with nbviewer.org.</b></div><div class=\"sk-container\" hidden><div class=\"sk-item\"><div class=\"sk-estimator sk-toggleable\"><input class=\"sk-toggleable__control sk-hidden--visually\" id=\"sk-estimator-id-11\" type=\"checkbox\" checked><label for=\"sk-estimator-id-11\" class=\"sk-toggleable__label sk-toggleable__label-arrow\">LogisticRegression</label><div class=\"sk-toggleable__content\"><pre>LogisticRegression(max_iter=1, multi_class=&#x27;multinomial&#x27;)</pre></div></div></div></div></div>"
      ],
      "text/plain": [
       "LogisticRegression(max_iter=1, multi_class='multinomial')"
      ]
     },
     "execution_count": 269,
     "metadata": {},
     "output_type": "execute_result"
    }
   ],
   "source": [
    "model_D_test = build_model_D(testset_valid_full, model, 3, data_description_full)\n",
    "model_D_test"
   ]
  },
  {
   "cell_type": "code",
   "execution_count": 253,
   "id": "14fd45fd-f789-4857-ac32-82cbebcd87c6",
   "metadata": {},
   "outputs": [
    {
     "data": {
      "text/html": [
       "<div>\n",
       "<style scoped>\n",
       "    .dataframe tbody tr th:only-of-type {\n",
       "        vertical-align: middle;\n",
       "    }\n",
       "\n",
       "    .dataframe tbody tr th {\n",
       "        vertical-align: top;\n",
       "    }\n",
       "\n",
       "    .dataframe thead th {\n",
       "        text-align: right;\n",
       "    }\n",
       "</style>\n",
       "<table border=\"1\" class=\"dataframe\">\n",
       "  <thead>\n",
       "    <tr style=\"text-align: right;\">\n",
       "      <th></th>\n",
       "      <th>userid</th>\n",
       "      <th>itemid</th>\n",
       "      <th>rating</th>\n",
       "      <th>timestamp</th>\n",
       "    </tr>\n",
       "  </thead>\n",
       "  <tbody>\n",
       "    <tr>\n",
       "      <th>0</th>\n",
       "      <td>1</td>\n",
       "      <td>1086</td>\n",
       "      <td>5</td>\n",
       "      <td>978300760</td>\n",
       "    </tr>\n",
       "    <tr>\n",
       "      <th>1</th>\n",
       "      <td>1</td>\n",
       "      <td>632</td>\n",
       "      <td>3</td>\n",
       "      <td>978302109</td>\n",
       "    </tr>\n",
       "    <tr>\n",
       "      <th>2</th>\n",
       "      <td>1</td>\n",
       "      <td>838</td>\n",
       "      <td>3</td>\n",
       "      <td>978301968</td>\n",
       "    </tr>\n",
       "    <tr>\n",
       "      <th>3</th>\n",
       "      <td>1</td>\n",
       "      <td>3136</td>\n",
       "      <td>4</td>\n",
       "      <td>978300275</td>\n",
       "    </tr>\n",
       "    <tr>\n",
       "      <th>4</th>\n",
       "      <td>1</td>\n",
       "      <td>2132</td>\n",
       "      <td>5</td>\n",
       "      <td>978824291</td>\n",
       "    </tr>\n",
       "    <tr>\n",
       "      <th>...</th>\n",
       "      <td>...</td>\n",
       "      <td>...</td>\n",
       "      <td>...</td>\n",
       "      <td>...</td>\n",
       "    </tr>\n",
       "    <tr>\n",
       "      <th>177</th>\n",
       "      <td>2</td>\n",
       "      <td>346</td>\n",
       "      <td>5</td>\n",
       "      <td>978299686</td>\n",
       "    </tr>\n",
       "    <tr>\n",
       "      <th>178</th>\n",
       "      <td>2</td>\n",
       "      <td>1135</td>\n",
       "      <td>2</td>\n",
       "      <td>978299200</td>\n",
       "    </tr>\n",
       "    <tr>\n",
       "      <th>179</th>\n",
       "      <td>2</td>\n",
       "      <td>1136</td>\n",
       "      <td>5</td>\n",
       "      <td>978299418</td>\n",
       "    </tr>\n",
       "    <tr>\n",
       "      <th>180</th>\n",
       "      <td>2</td>\n",
       "      <td>3600</td>\n",
       "      <td>1</td>\n",
       "      <td>978299535</td>\n",
       "    </tr>\n",
       "    <tr>\n",
       "      <th>181</th>\n",
       "      <td>2</td>\n",
       "      <td>1137</td>\n",
       "      <td>5</td>\n",
       "      <td>978298652</td>\n",
       "    </tr>\n",
       "  </tbody>\n",
       "</table>\n",
       "<p>180 rows × 4 columns</p>\n",
       "</div>"
      ],
      "text/plain": [
       "     userid  itemid  rating  timestamp\n",
       "0         1    1086       5  978300760\n",
       "1         1     632       3  978302109\n",
       "2         1     838       3  978301968\n",
       "3         1    3136       4  978300275\n",
       "4         1    2132       5  978824291\n",
       "..      ...     ...     ...        ...\n",
       "177       2     346       5  978299686\n",
       "178       2    1135       2  978299200\n",
       "179       2    1136       5  978299418\n",
       "180       2    3600       1  978299535\n",
       "181       2    1137       5  978298652\n",
       "\n",
       "[180 rows x 4 columns]"
      ]
     },
     "execution_count": 253,
     "metadata": {},
     "output_type": "execute_result"
    }
   ],
   "source": [
    "testset_valid_full[testset_valid_full.userid < 3]"
   ]
  },
  {
   "cell_type": "code",
   "execution_count": 270,
   "id": "3dc1be1c-7285-4946-ad56-f18638759032",
   "metadata": {},
   "outputs": [
    {
     "data": {
      "text/plain": [
       "array([   0,    1,    2, ..., 3653, 3654, 3657])"
      ]
     },
     "execution_count": 270,
     "metadata": {},
     "output_type": "execute_result"
    }
   ],
   "source": [
    "model_D_test.classes_"
   ]
  },
  {
   "cell_type": "code",
   "execution_count": 222,
   "id": "bb54093f-95e5-431a-b778-ed927a53d351",
   "metadata": {},
   "outputs": [],
   "source": [
    "state = np.array([-0.9155,  0.1566, -0.0902,  0.3246, -1.0450,  1.1859,  0.6490, -0.0042,\n",
    "          0.2900,  0.0849,  0.0386, -0.7189, -0.5044, -1.4471, -0.9739,  0.8755,\n",
    "          1.0489, -1.7149, -0.6816,  0.7614, -0.6641,  2.8349, -1.1428,  1.2974,\n",
    "          0.5513, -0.1746,  0.3071,  0.1533, -0.5535,  0.0373,  0.4324,  0.5614,\n",
    "          0.0516,  0.0781, -0.3319, -0.1633, -0.8561,  1.7090, -0.2278, -0.4855,\n",
    "         -0.4979, -0.8764, -0.2759,  0.4210,  1.1624,  1.2836,  0.2431, -0.1973,\n",
    "         -1.0329,  0.4999,  0.1575, -0.0300, -0.0970, -0.2635, -1.2588, -0.4120,\n",
    "          0.4372,  1.4692,  3.2986,  1.1218, -0.3660, -2.5685, -1.9295, -1.0226])"
   ]
  },
  {
   "cell_type": "code",
   "execution_count": 271,
   "id": "7212e9cc-f18a-485b-a484-4a4c6e72d6e9",
   "metadata": {},
   "outputs": [
    {
     "data": {
      "text/plain": [
       "array([0.00062306, 0.00054591, 0.00057484, ..., 0.00087445, 0.00067112,\n",
       "       0.00051937])"
      ]
     },
     "execution_count": 271,
     "metadata": {},
     "output_type": "execute_result"
    }
   ],
   "source": [
    "model_D_test.predict_proba(state.reshape(1, -1))[0]"
   ]
  },
  {
   "cell_type": "code",
   "execution_count": 184,
   "id": "74cb56dd-81b5-4cc5-a03d-6ee815866bec",
   "metadata": {},
   "outputs": [
    {
     "data": {
      "text/html": [
       "<div>\n",
       "<style scoped>\n",
       "    .dataframe tbody tr th:only-of-type {\n",
       "        vertical-align: middle;\n",
       "    }\n",
       "\n",
       "    .dataframe tbody tr th {\n",
       "        vertical-align: top;\n",
       "    }\n",
       "\n",
       "    .dataframe thead th {\n",
       "        text-align: right;\n",
       "    }\n",
       "</style>\n",
       "<table border=\"1\" class=\"dataframe\">\n",
       "  <thead>\n",
       "    <tr style=\"text-align: right;\">\n",
       "      <th></th>\n",
       "      <th>userid</th>\n",
       "      <th>itemid</th>\n",
       "      <th>rating</th>\n",
       "      <th>timestamp</th>\n",
       "    </tr>\n",
       "  </thead>\n",
       "  <tbody>\n",
       "    <tr>\n",
       "      <th>31</th>\n",
       "      <td>1</td>\n",
       "      <td>2935</td>\n",
       "      <td>4</td>\n",
       "      <td>978300019</td>\n",
       "    </tr>\n",
       "    <tr>\n",
       "      <th>27</th>\n",
       "      <td>1</td>\n",
       "      <td>1552</td>\n",
       "      <td>4</td>\n",
       "      <td>978300055</td>\n",
       "    </tr>\n",
       "    <tr>\n",
       "      <th>37</th>\n",
       "      <td>1</td>\n",
       "      <td>941</td>\n",
       "      <td>5</td>\n",
       "      <td>978300055</td>\n",
       "    </tr>\n",
       "    <tr>\n",
       "      <th>22</th>\n",
       "      <td>1</td>\n",
       "      <td>1160</td>\n",
       "      <td>5</td>\n",
       "      <td>978300055</td>\n",
       "    </tr>\n",
       "    <tr>\n",
       "      <th>24</th>\n",
       "      <td>1</td>\n",
       "      <td>2117</td>\n",
       "      <td>3</td>\n",
       "      <td>978300103</td>\n",
       "    </tr>\n",
       "    <tr>\n",
       "      <th>36</th>\n",
       "      <td>1</td>\n",
       "      <td>1633</td>\n",
       "      <td>5</td>\n",
       "      <td>978300172</td>\n",
       "    </tr>\n",
       "    <tr>\n",
       "      <th>3</th>\n",
       "      <td>1</td>\n",
       "      <td>3136</td>\n",
       "      <td>4</td>\n",
       "      <td>978300275</td>\n",
       "    </tr>\n",
       "    <tr>\n",
       "      <th>47</th>\n",
       "      <td>1</td>\n",
       "      <td>1099</td>\n",
       "      <td>4</td>\n",
       "      <td>978300719</td>\n",
       "    </tr>\n",
       "    <tr>\n",
       "      <th>7</th>\n",
       "      <td>1</td>\n",
       "      <td>2566</td>\n",
       "      <td>5</td>\n",
       "      <td>978300719</td>\n",
       "    </tr>\n",
       "    <tr>\n",
       "      <th>21</th>\n",
       "      <td>1</td>\n",
       "      <td>680</td>\n",
       "      <td>3</td>\n",
       "      <td>978300760</td>\n",
       "    </tr>\n",
       "    <tr>\n",
       "      <th>0</th>\n",
       "      <td>1</td>\n",
       "      <td>1086</td>\n",
       "      <td>5</td>\n",
       "      <td>978300760</td>\n",
       "    </tr>\n",
       "    <tr>\n",
       "      <th>44</th>\n",
       "      <td>1</td>\n",
       "      <td>253</td>\n",
       "      <td>4</td>\n",
       "      <td>978300760</td>\n",
       "    </tr>\n",
       "    <tr>\n",
       "      <th>9</th>\n",
       "      <td>1</td>\n",
       "      <td>843</td>\n",
       "      <td>4</td>\n",
       "      <td>978301368</td>\n",
       "    </tr>\n",
       "    <tr>\n",
       "      <th>51</th>\n",
       "      <td>1</td>\n",
       "      <td>587</td>\n",
       "      <td>4</td>\n",
       "      <td>978301398</td>\n",
       "    </tr>\n",
       "    <tr>\n",
       "      <th>43</th>\n",
       "      <td>1</td>\n",
       "      <td>2456</td>\n",
       "      <td>4</td>\n",
       "      <td>978301570</td>\n",
       "    </tr>\n",
       "    <tr>\n",
       "      <th>41</th>\n",
       "      <td>1</td>\n",
       "      <td>1755</td>\n",
       "      <td>5</td>\n",
       "      <td>978301590</td>\n",
       "    </tr>\n",
       "    <tr>\n",
       "      <th>48</th>\n",
       "      <td>1</td>\n",
       "      <td>1822</td>\n",
       "      <td>5</td>\n",
       "      <td>978301619</td>\n",
       "    </tr>\n",
       "    <tr>\n",
       "      <th>18</th>\n",
       "      <td>1</td>\n",
       "      <td>2856</td>\n",
       "      <td>5</td>\n",
       "      <td>978301713</td>\n",
       "    </tr>\n",
       "    <tr>\n",
       "      <th>11</th>\n",
       "      <td>1</td>\n",
       "      <td>862</td>\n",
       "      <td>4</td>\n",
       "      <td>978301752</td>\n",
       "    </tr>\n",
       "    <tr>\n",
       "      <th>42</th>\n",
       "      <td>1</td>\n",
       "      <td>1756</td>\n",
       "      <td>4</td>\n",
       "      <td>978301753</td>\n",
       "    </tr>\n",
       "    <tr>\n",
       "      <th>14</th>\n",
       "      <td>1</td>\n",
       "      <td>954</td>\n",
       "      <td>5</td>\n",
       "      <td>978301753</td>\n",
       "    </tr>\n",
       "    <tr>\n",
       "      <th>39</th>\n",
       "      <td>1</td>\n",
       "      <td>144</td>\n",
       "      <td>5</td>\n",
       "      <td>978301777</td>\n",
       "    </tr>\n",
       "    <tr>\n",
       "      <th>17</th>\n",
       "      <td>1</td>\n",
       "      <td>1812</td>\n",
       "      <td>4</td>\n",
       "      <td>978301777</td>\n",
       "    </tr>\n",
       "    <tr>\n",
       "      <th>45</th>\n",
       "      <td>1</td>\n",
       "      <td>947</td>\n",
       "      <td>5</td>\n",
       "      <td>978301777</td>\n",
       "    </tr>\n",
       "    <tr>\n",
       "      <th>26</th>\n",
       "      <td>1</td>\n",
       "      <td>1008</td>\n",
       "      <td>4</td>\n",
       "      <td>978301953</td>\n",
       "    </tr>\n",
       "    <tr>\n",
       "      <th>2</th>\n",
       "      <td>1</td>\n",
       "      <td>838</td>\n",
       "      <td>3</td>\n",
       "      <td>978301968</td>\n",
       "    </tr>\n",
       "    <tr>\n",
       "      <th>19</th>\n",
       "      <td>1</td>\n",
       "      <td>2559</td>\n",
       "      <td>4</td>\n",
       "      <td>978302039</td>\n",
       "    </tr>\n",
       "    <tr>\n",
       "      <th>6</th>\n",
       "      <td>1</td>\n",
       "      <td>1177</td>\n",
       "      <td>5</td>\n",
       "      <td>978302039</td>\n",
       "    </tr>\n",
       "    <tr>\n",
       "      <th>52</th>\n",
       "      <td>1</td>\n",
       "      <td>1136</td>\n",
       "      <td>4</td>\n",
       "      <td>978302091</td>\n",
       "    </tr>\n",
       "    <tr>\n",
       "      <th>38</th>\n",
       "      <td>1</td>\n",
       "      <td>2524</td>\n",
       "      <td>4</td>\n",
       "      <td>978302091</td>\n",
       "    </tr>\n",
       "    <tr>\n",
       "      <th>1</th>\n",
       "      <td>1</td>\n",
       "      <td>632</td>\n",
       "      <td>3</td>\n",
       "      <td>978302109</td>\n",
       "    </tr>\n",
       "    <tr>\n",
       "      <th>13</th>\n",
       "      <td>1</td>\n",
       "      <td>2677</td>\n",
       "      <td>4</td>\n",
       "      <td>978302124</td>\n",
       "    </tr>\n",
       "    <tr>\n",
       "      <th>49</th>\n",
       "      <td>1</td>\n",
       "      <td>514</td>\n",
       "      <td>4</td>\n",
       "      <td>978302149</td>\n",
       "    </tr>\n",
       "    <tr>\n",
       "      <th>50</th>\n",
       "      <td>1</td>\n",
       "      <td>2865</td>\n",
       "      <td>4</td>\n",
       "      <td>978302174</td>\n",
       "    </tr>\n",
       "    <tr>\n",
       "      <th>15</th>\n",
       "      <td>1</td>\n",
       "      <td>2553</td>\n",
       "      <td>4</td>\n",
       "      <td>978302188</td>\n",
       "    </tr>\n",
       "    <tr>\n",
       "      <th>46</th>\n",
       "      <td>1</td>\n",
       "      <td>948</td>\n",
       "      <td>5</td>\n",
       "      <td>978302205</td>\n",
       "    </tr>\n",
       "    <tr>\n",
       "      <th>20</th>\n",
       "      <td>1</td>\n",
       "      <td>2098</td>\n",
       "      <td>3</td>\n",
       "      <td>978302205</td>\n",
       "    </tr>\n",
       "    <tr>\n",
       "      <th>8</th>\n",
       "      <td>1</td>\n",
       "      <td>574</td>\n",
       "      <td>4</td>\n",
       "      <td>978302268</td>\n",
       "    </tr>\n",
       "    <tr>\n",
       "      <th>5</th>\n",
       "      <td>1</td>\n",
       "      <td>1089</td>\n",
       "      <td>3</td>\n",
       "      <td>978302268</td>\n",
       "    </tr>\n",
       "    <tr>\n",
       "      <th>12</th>\n",
       "      <td>1</td>\n",
       "      <td>2175</td>\n",
       "      <td>4</td>\n",
       "      <td>978302281</td>\n",
       "    </tr>\n",
       "    <tr>\n",
       "      <th>28</th>\n",
       "      <td>1</td>\n",
       "      <td>1401</td>\n",
       "      <td>4</td>\n",
       "      <td>978824139</td>\n",
       "    </tr>\n",
       "    <tr>\n",
       "      <th>23</th>\n",
       "      <td>1</td>\n",
       "      <td>510</td>\n",
       "      <td>5</td>\n",
       "      <td>978824195</td>\n",
       "    </tr>\n",
       "    <tr>\n",
       "      <th>40</th>\n",
       "      <td>1</td>\n",
       "      <td>0</td>\n",
       "      <td>5</td>\n",
       "      <td>978824268</td>\n",
       "    </tr>\n",
       "    <tr>\n",
       "      <th>10</th>\n",
       "      <td>1</td>\n",
       "      <td>575</td>\n",
       "      <td>5</td>\n",
       "      <td>978824268</td>\n",
       "    </tr>\n",
       "    <tr>\n",
       "      <th>33</th>\n",
       "      <td>1</td>\n",
       "      <td>568</td>\n",
       "      <td>4</td>\n",
       "      <td>978824268</td>\n",
       "    </tr>\n",
       "    <tr>\n",
       "      <th>16</th>\n",
       "      <td>1</td>\n",
       "      <td>2451</td>\n",
       "      <td>3</td>\n",
       "      <td>978824268</td>\n",
       "    </tr>\n",
       "    <tr>\n",
       "      <th>29</th>\n",
       "      <td>1</td>\n",
       "      <td>699</td>\n",
       "      <td>3</td>\n",
       "      <td>978824268</td>\n",
       "    </tr>\n",
       "    <tr>\n",
       "      <th>4</th>\n",
       "      <td>1</td>\n",
       "      <td>2132</td>\n",
       "      <td>5</td>\n",
       "      <td>978824291</td>\n",
       "    </tr>\n",
       "    <tr>\n",
       "      <th>30</th>\n",
       "      <td>1</td>\n",
       "      <td>2073</td>\n",
       "      <td>4</td>\n",
       "      <td>978824291</td>\n",
       "    </tr>\n",
       "    <tr>\n",
       "      <th>35</th>\n",
       "      <td>1</td>\n",
       "      <td>729</td>\n",
       "      <td>4</td>\n",
       "      <td>978824291</td>\n",
       "    </tr>\n",
       "    <tr>\n",
       "      <th>34</th>\n",
       "      <td>1</td>\n",
       "      <td>1702</td>\n",
       "      <td>4</td>\n",
       "      <td>978824330</td>\n",
       "    </tr>\n",
       "    <tr>\n",
       "      <th>32</th>\n",
       "      <td>1</td>\n",
       "      <td>1418</td>\n",
       "      <td>4</td>\n",
       "      <td>978824330</td>\n",
       "    </tr>\n",
       "  </tbody>\n",
       "</table>\n",
       "</div>"
      ],
      "text/plain": [
       "    userid  itemid  rating  timestamp\n",
       "31       1    2935       4  978300019\n",
       "27       1    1552       4  978300055\n",
       "37       1     941       5  978300055\n",
       "22       1    1160       5  978300055\n",
       "24       1    2117       3  978300103\n",
       "36       1    1633       5  978300172\n",
       "3        1    3136       4  978300275\n",
       "47       1    1099       4  978300719\n",
       "7        1    2566       5  978300719\n",
       "21       1     680       3  978300760\n",
       "0        1    1086       5  978300760\n",
       "44       1     253       4  978300760\n",
       "9        1     843       4  978301368\n",
       "51       1     587       4  978301398\n",
       "43       1    2456       4  978301570\n",
       "41       1    1755       5  978301590\n",
       "48       1    1822       5  978301619\n",
       "18       1    2856       5  978301713\n",
       "11       1     862       4  978301752\n",
       "42       1    1756       4  978301753\n",
       "14       1     954       5  978301753\n",
       "39       1     144       5  978301777\n",
       "17       1    1812       4  978301777\n",
       "45       1     947       5  978301777\n",
       "26       1    1008       4  978301953\n",
       "2        1     838       3  978301968\n",
       "19       1    2559       4  978302039\n",
       "6        1    1177       5  978302039\n",
       "52       1    1136       4  978302091\n",
       "38       1    2524       4  978302091\n",
       "1        1     632       3  978302109\n",
       "13       1    2677       4  978302124\n",
       "49       1     514       4  978302149\n",
       "50       1    2865       4  978302174\n",
       "15       1    2553       4  978302188\n",
       "46       1     948       5  978302205\n",
       "20       1    2098       3  978302205\n",
       "8        1     574       4  978302268\n",
       "5        1    1089       3  978302268\n",
       "12       1    2175       4  978302281\n",
       "28       1    1401       4  978824139\n",
       "23       1     510       5  978824195\n",
       "40       1       0       5  978824268\n",
       "10       1     575       5  978824268\n",
       "33       1     568       4  978824268\n",
       "16       1    2451       3  978824268\n",
       "29       1     699       3  978824268\n",
       "4        1    2132       5  978824291\n",
       "30       1    2073       4  978824291\n",
       "35       1     729       4  978824291\n",
       "34       1    1702       4  978824330\n",
       "32       1    1418       4  978824330"
      ]
     },
     "execution_count": 184,
     "metadata": {},
     "output_type": "execute_result"
    }
   ],
   "source": [
    "testset_valid_full[testset_valid_full.userid < 2].sort_values('timestamp')"
   ]
  },
  {
   "cell_type": "code",
   "execution_count": null,
   "id": "7c739d50-0d96-4b48-a686-d3014dbd5048",
   "metadata": {},
   "outputs": [],
   "source": []
  },
  {
   "cell_type": "code",
   "execution_count": 282,
   "id": "aee4daeb-ace2-4614-b25f-ee7de91a9e73",
   "metadata": {},
   "outputs": [],
   "source": [
    "def score_policy_D(at, seqt, n, model_D, model_D_sasrec, device):\n",
    "    with torch.no_grad():\n",
    "        _, state = model_D_sasrec.score_with_state(torch.tensor(seqt, device=device, dtype=torch.long))\n",
    "\n",
    "    try:\n",
    "        proba_gt = model_D.predict_proba(state.detach().cpu().numpy().reshape(1, -1))[0, np.where(model_D.classes_ == at)[0][0]]\n",
    "    except IndexError:\n",
    "        at = 0\n",
    "        proba_gt = model_D.predict_proba(state.detach().cpu().numpy().reshape(1, -1))[0, at]\n",
    "\n",
    "    # proba_gt = model_D.predict_proba(state.detach().cpu().numpy().reshape(1, -1))[0, np.where(model_D.classes_ == at)[0][0]]\n",
    "\n",
    "    \n",
    "    return proba_gt"
   ]
  },
  {
   "cell_type": "code",
   "execution_count": 283,
   "id": "5b4ffbf3-8a96-4a70-afe1-301f7230ce43",
   "metadata": {},
   "outputs": [],
   "source": [
    "def prod_score_subseqs(h, model_D, model_D_sasrec, model_e, n, device):\n",
    "\n",
    "    # create subseqs with gts\n",
    "    subseqs_h = []\n",
    "    seqt = h.copy()\n",
    "    for i in range(len(h)-1):\n",
    "        at = seqt.pop()\n",
    "        subseqs_h.append((at, seqt.copy()))\n",
    "        \n",
    "    probas_e = []\n",
    "    probas_D = []\n",
    "    for at, seqt in subseqs_h[::-1]:\n",
    "        probas_e.append(score_policy_e(at, seqt, model_e, device))\n",
    "        probas_D.append(score_policy_D(at, seqt[-n:], n, model_D, model_D_sasrec, device))\n",
    "    \n",
    "    product_one_h = np.divide(probas_e, probas_D).prod() # prod p_e/p_D\n",
    "\n",
    "    return product_one_h\n",
    "\n",
    "def RISEstimate(testset, model_D_sasrec, model_D, model_e, data_description, n=3, gamma=0.99, device='cuda'):\n",
    "    \n",
    "    model_D_sasrec.eval() \n",
    "    model_e.eval()\n",
    "\n",
    "    test_sequences = data_to_sequences(testset, data_description)\n",
    "    m = len(test_sequences)\n",
    "    ris = 0\n",
    "    \n",
    "    for _, h in tqdm(test_sequences.items()):\n",
    "    \n",
    "        product_one_h = prod_score_subseqs(h, model_D, model_D_sasrec, model_e, n, device)\n",
    "        g = np.sum([gamma**t * 1 for t in range(len(h)-1)])\n",
    "\n",
    "        ris += g * product_one_h\n",
    "    \n",
    "    return ris / m"
   ]
  },
  {
   "cell_type": "code",
   "execution_count": 248,
   "id": "97f3157a-dd40-418d-8340-ddf7b329ad18",
   "metadata": {},
   "outputs": [
    {
     "data": {
      "text/plain": [
       "userid\n",
       "1    [2935, 1160, 1552, 941, 2117, 1633, 3136, 2566...\n",
       "2    [1090, 1102, 1109, 2479, 1183, 2702, 1117, 108...\n",
       "Name: itemid, dtype: object"
      ]
     },
     "execution_count": 248,
     "metadata": {},
     "output_type": "execute_result"
    }
   ],
   "source": [
    "test_sequences"
   ]
  },
  {
   "cell_type": "code",
   "execution_count": 278,
   "id": "463dd565-e8cb-459a-8665-6cbdc4a7d2d5",
   "metadata": {},
   "outputs": [
    {
     "data": {
      "text/plain": [
       "array([   0,    1,    2, ..., 3653, 3654, 3657])"
      ]
     },
     "execution_count": 278,
     "metadata": {},
     "output_type": "execute_result"
    }
   ],
   "source": [
    "model_D_test.classes_"
   ]
  },
  {
   "cell_type": "code",
   "execution_count": 284,
   "id": "bad16929-02fa-4af7-8a85-e851718149ec",
   "metadata": {},
   "outputs": [
    {
     "name": "stderr",
     "output_type": "stream",
     "text": [
      "3it [00:22,  7.65s/it]\n"
     ]
    },
    {
     "data": {
      "text/plain": [
       "8.407407354049367e-11"
      ]
     },
     "execution_count": 284,
     "metadata": {},
     "output_type": "execute_result"
    }
   ],
   "source": [
    "RISEstimate(testset_valid_temp[testset_valid_temp.userid < 3], model, model_D_test, model, data_description)"
   ]
  },
  {
   "cell_type": "code",
   "execution_count": 92,
   "id": "e7b54cfd-6457-43c5-b161-2e060a3e731a",
   "metadata": {},
   "outputs": [
    {
     "data": {
      "text/plain": [
       "array([0.00024171, 0.00032   , 0.00026749, 0.00021956, 0.00029772,\n",
       "       0.00022192, 0.00031178, 0.00029008, 0.0003517 ], dtype=float32)"
      ]
     },
     "execution_count": 92,
     "metadata": {},
     "output_type": "execute_result"
    }
   ],
   "source": [
    "score_subseq(test_seq, model)"
   ]
  },
  {
   "cell_type": "code",
   "execution_count": 97,
   "id": "eb714239-f52e-4722-b540-d62c33a19261",
   "metadata": {},
   "outputs": [
    {
     "data": {
      "text/plain": [
       "0.125"
      ]
     },
     "execution_count": 97,
     "metadata": {},
     "output_type": "execute_result"
    }
   ],
   "source": [
    "np.divide([1,2,3], [2,4,6]).prod()"
   ]
  },
  {
   "cell_type": "code",
   "execution_count": 105,
   "id": "43fcba98-c055-489f-bbde-29f1a9aa59e1",
   "metadata": {},
   "outputs": [
    {
     "data": {
      "text/plain": [
       "8.64827525163591"
      ]
     },
     "execution_count": 105,
     "metadata": {},
     "output_type": "execute_result"
    }
   ],
   "source": [
    "np.sum([0.99**t * 1 for t in range(len(test_seq)-1)])"
   ]
  },
  {
   "cell_type": "code",
   "execution_count": 104,
   "id": "bfff85db-3a61-4caf-9b96-00f1b743c4c3",
   "metadata": {},
   "outputs": [
    {
     "data": {
      "text/plain": [
       "8.64827525163591"
      ]
     },
     "execution_count": 104,
     "metadata": {},
     "output_type": "execute_result"
    }
   ],
   "source": [
    "sum([0.99**t * 1 for t in range(len(test_seq)-1)])"
   ]
  },
  {
   "cell_type": "code",
   "execution_count": null,
   "id": "1c63c8b3-8a9a-4302-a75c-36aa496226be",
   "metadata": {},
   "outputs": [],
   "source": []
  }
 ],
 "metadata": {
  "kernelspec": {
   "display_name": "Python 3 (ipykernel)",
   "language": "python",
   "name": "python3"
  },
  "language_info": {
   "codemirror_mode": {
    "name": "ipython",
    "version": 3
   },
   "file_extension": ".py",
   "mimetype": "text/x-python",
   "name": "python",
   "nbconvert_exporter": "python",
   "pygments_lexer": "ipython3",
   "version": "3.10.12"
  }
 },
 "nbformat": 4,
 "nbformat_minor": 5
}
