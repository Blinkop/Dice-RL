{
 "cells": [
  {
   "cell_type": "code",
   "execution_count": 1,
   "metadata": {},
   "outputs": [],
   "source": [
    "import random\n",
    "import numpy as np\n",
    "import pandas as pd\n",
    "\n",
    "import torch\n",
    "from torch.utils.data import DataLoader\n",
    "\n",
    "from polara import get_movielens_data\n",
    "from polara.preprocessing.dataframes import reindex\n",
    "\n",
    "from neural_dice_v2 import SquaredActivation, ValueNetwork, NeuralDice\n",
    "from policy import RandomPolicy, PopularRandomPolicy\n",
    "from data import MovieLensBasicMDP, transform_indices, CartPoleMDP\n",
    "\n",
    "%load_ext autoreload\n",
    "%autoreload 2\n",
    "%matplotlib inline\n",
    "import matplotlib.pyplot as plt"
   ]
  },
  {
   "cell_type": "code",
   "execution_count": 2,
   "metadata": {},
   "outputs": [],
   "source": [
    "RANDOM_SEED = 12\n",
    "DEVICE = torch.device('cpu')\n",
    "BATCH_SIZE = 2\n",
    "NUM_SAMPLES = 8192\n",
    "NUM_ITER = 10000\n",
    "EVAL_ITER = 100\n",
    "\n",
    "ZETA_POS = False # squared output of zeta(s,a)                  (used in GenDICE, BestDice)\n",
    "ZERO_REWARD = True # whether include the reward in loss or not (used in MQL, BestDICE)\n",
    "NORM_REGULARIZER = 0.0 # use lambda or not                      (used in GenDICE, GradientDICE, BestDICE)\n",
    "PRIMAL_REGULARIZER = 0.0 # alpha_Q                              (used in GenDICE, GradientDICE)\n",
    "DUAL_REGULARIZER = 1.0 # alpha_zeta                             (used in DualDICE, BestDICE)\n",
    "\n",
    "NU_LR = 0.0001\n",
    "ZETA_LR = 0.0001\n",
    "GAMMA = 0.99"
   ]
  },
  {
   "cell_type": "code",
   "execution_count": 3,
   "metadata": {},
   "outputs": [],
   "source": [
    "def custom_collate(data_list):\n",
    "    first_state = []\n",
    "    current_state = []\n",
    "    current_action = []\n",
    "    next_state = []\n",
    "    rewards = []\n",
    "    step_num = []\n",
    "\n",
    "    for fs, cs, ca, ns, rw, sn in data_list:\n",
    "        first_state.append(fs)\n",
    "        current_state.append(cs)\n",
    "        current_action.append(ca)\n",
    "        next_state.append(ns)\n",
    "        rewards.append(rw)\n",
    "        step_num.append(sn)\n",
    "\n",
    "    return (\n",
    "        torch.concat(first_state, dim=0),\n",
    "        torch.concat(current_state, dim=0),\n",
    "        torch.concat(current_action, dim=0),\n",
    "        torch.concat(next_state, dim=0),\n",
    "        torch.concat(rewards, dim=0),\n",
    "        torch.concat(step_num, dim=0)\n",
    "    )\n",
    "\n",
    "loader_generator = torch.Generator()\n",
    "loader_generator.manual_seed(RANDOM_SEED)\n",
    "\n",
    "def seed_worker(worker_id):\n",
    "    worker_seed = torch.initial_seed() % 2 ** 32\n",
    "    np.random.seed(worker_seed+worker_id)\n",
    "\n",
    "dataset = CartPoleMDP(\n",
    "    ds_path=\"/home/hdilab/amgimranov/Dice-RL/cartpole_ds.npy\",\n",
    "    num_samples=NUM_SAMPLES\n",
    ")\n",
    "\n",
    "loader = DataLoader(\n",
    "    dataset=dataset,\n",
    "    batch_size=BATCH_SIZE,\n",
    "    num_workers=2,\n",
    "    prefetch_factor=4,\n",
    "    pin_memory=True,\n",
    "    collate_fn=custom_collate,\n",
    "    persistent_workers=True,\n",
    "    worker_init_fn=seed_worker,\n",
    "    generator=loader_generator\n",
    ")"
   ]
  },
  {
   "cell_type": "code",
   "execution_count": 4,
   "metadata": {},
   "outputs": [],
   "source": [
    "from cartpole import RandomPolicy\n",
    "\n",
    "policy = RandomPolicy(\n",
    "    device=DEVICE,\n",
    "    name='RandomPolicy',\n",
    ")"
   ]
  },
  {
   "cell_type": "code",
   "execution_count": 5,
   "metadata": {},
   "outputs": [],
   "source": [
    "nu = ValueNetwork(\n",
    "    num_layers=2,\n",
    "    state_dim=4,\n",
    "    action_dim=2,\n",
    "    hidden_dim=64,\n",
    "    output_activation=None,\n",
    "    seed=RANDOM_SEED\n",
    ")\n",
    "nu = nu.to(DEVICE)\n",
    "\n",
    "zeta = ValueNetwork(\n",
    "    num_layers=2,\n",
    "    state_dim=4,\n",
    "    action_dim=2,\n",
    "    hidden_dim=64,\n",
    "    output_activation=SquaredActivation if ZETA_POS else None,\n",
    "    seed=RANDOM_SEED+1\n",
    ")\n",
    "zeta = zeta.to(DEVICE)\n",
    "\n",
    "nu_optimizer = torch.optim.Adam(list(nu.parameters()), lr=NU_LR)\n",
    "zeta_optimizer = torch.optim.Adam(list(zeta.parameters()), lr=ZETA_LR)\n",
    "\n",
    "dice = NeuralDice(\n",
    "    nu_network=nu,\n",
    "    zeta_network=zeta,\n",
    "    nu_lr=NU_LR,\n",
    "    zeta_lr=ZETA_LR,\n",
    "    lambda_lr=NU_LR,\n",
    "    num_actions=2,\n",
    "    gamma=GAMMA,\n",
    "    zero_reward=ZERO_REWARD,\n",
    "    f_exponent=1.5,\n",
    "    primal_form=False,\n",
    "    num_action_samples=None, # number of action samples used in Q expectation\n",
    "    primal_regularizer=PRIMAL_REGULARIZER,\n",
    "    dual_regularizer=DUAL_REGULARIZER,\n",
    "    norm_regularizer=NORM_REGULARIZER,\n",
    "    nu_regularizer=0.0, # nu network regularizer\n",
    "    zeta_regularizer=0.0, # zeta network regularizer\n",
    "    weight_by_gamma=False, # weight loss by gamma**step_num\n",
    "    device=DEVICE\n",
    ")"
   ]
  },
  {
   "cell_type": "code",
   "execution_count": 6,
   "metadata": {},
   "outputs": [],
   "source": [
    "def estimate_policy(data: MovieLensBasicMDP, print_zeta=False):\n",
    "    values = []\n",
    "    for batch in data.iterate_dataset(batch_size=100):\n",
    "        batch = [b.to(DEVICE) for b in batch]\n",
    "        states, actions, rewards = batch\n",
    "\n",
    "        values.append(\n",
    "            dice.estimate_average_reward(\n",
    "                states=states,\n",
    "                actions=actions,\n",
    "                rewards=rewards,\n",
    "                print_zeta=print_zeta\n",
    "            )\n",
    "        )\n",
    "        print_zeta=False\n",
    "\n",
    "    return np.mean(values)"
   ]
  },
  {
   "cell_type": "code",
   "execution_count": 15,
   "metadata": {},
   "outputs": [
    {
     "name": "stderr",
     "output_type": "stream",
     "text": [
      "  0%|          | 0/10000 [00:00<?, ?it/s]"
     ]
    },
    {
     "name": "stderr",
     "output_type": "stream",
     "text": [
      "  0%|          | 1/10000 [00:00<41:53,  3.98it/s]"
     ]
    },
    {
     "name": "stdout",
     "output_type": "stream",
     "text": [
      "tensor(-0.0820) tensor(-0.3786) tensor(0.2136)\n",
      "Value on iteration 0: -0.015033390183729352\n"
     ]
    },
    {
     "name": "stderr",
     "output_type": "stream",
     "text": [
      "  1%|          | 85/10000 [00:07<13:43, 12.04it/s]\n"
     ]
    },
    {
     "ename": "KeyboardInterrupt",
     "evalue": "",
     "output_type": "error",
     "traceback": [
      "\u001b[0;31m---------------------------------------------------------------------------\u001b[0m",
      "\u001b[0;31mKeyboardInterrupt\u001b[0m                         Traceback (most recent call last)",
      "Cell \u001b[0;32mIn[15], line 14\u001b[0m\n\u001b[1;32m     10\u001b[0m     \u001b[38;5;28;01mbreak\u001b[39;00m\n\u001b[1;32m     12\u001b[0m batch \u001b[38;5;241m=\u001b[39m [b\u001b[38;5;241m.\u001b[39mto(DEVICE) \u001b[38;5;28;01mfor\u001b[39;00m b \u001b[38;5;129;01min\u001b[39;00m batch]\n\u001b[0;32m---> 14\u001b[0m nu_loss, zeta_loss, lambda_loss \u001b[38;5;241m=\u001b[39m \u001b[43mdice\u001b[49m\u001b[38;5;241;43m.\u001b[39;49m\u001b[43mtrain_batch\u001b[49m\u001b[43m(\u001b[49m\u001b[43mbatch\u001b[49m\u001b[38;5;241;43m=\u001b[39;49m\u001b[43mbatch\u001b[49m\u001b[43m,\u001b[49m\u001b[43m \u001b[49m\u001b[43mpolicy\u001b[49m\u001b[38;5;241;43m=\u001b[39;49m\u001b[43mpolicy\u001b[49m\u001b[43m)\u001b[49m\n\u001b[1;32m     15\u001b[0m nu_losses\u001b[38;5;241m.\u001b[39mappend(nu_loss)\n\u001b[1;32m     16\u001b[0m zeta_losses\u001b[38;5;241m.\u001b[39mappend(zeta_loss)\n",
      "File \u001b[0;32m~/amgimranov/Dice-RL/neural_dice_v2.py:264\u001b[0m, in \u001b[0;36mNeuralDice.train_batch\u001b[0;34m(self, batch, policy)\u001b[0m\n\u001b[1;32m    262\u001b[0m nu_loss\u001b[38;5;241m.\u001b[39mbackward(retain_graph\u001b[38;5;241m=\u001b[39m\u001b[38;5;28;01mTrue\u001b[39;00m)\n\u001b[1;32m    263\u001b[0m zeta_loss\u001b[38;5;241m.\u001b[39mbackward(retain_graph\u001b[38;5;241m=\u001b[39m\u001b[38;5;28;01mTrue\u001b[39;00m)\n\u001b[0;32m--> 264\u001b[0m \u001b[43mlambda_loss\u001b[49m\u001b[38;5;241;43m.\u001b[39;49m\u001b[43mbackward\u001b[49m\u001b[43m(\u001b[49m\u001b[43m)\u001b[49m\n\u001b[1;32m    266\u001b[0m \u001b[38;5;28mself\u001b[39m\u001b[38;5;241m.\u001b[39m_nu_optimizer\u001b[38;5;241m.\u001b[39mstep()\n\u001b[1;32m    267\u001b[0m \u001b[38;5;28mself\u001b[39m\u001b[38;5;241m.\u001b[39m_zeta_optimizer\u001b[38;5;241m.\u001b[39mstep()\n",
      "File \u001b[0;32m~/amgimranov/RePlay/.venv/lib/python3.8/site-packages/torch/_tensor.py:487\u001b[0m, in \u001b[0;36mTensor.backward\u001b[0;34m(self, gradient, retain_graph, create_graph, inputs)\u001b[0m\n\u001b[1;32m    477\u001b[0m \u001b[38;5;28;01mif\u001b[39;00m has_torch_function_unary(\u001b[38;5;28mself\u001b[39m):\n\u001b[1;32m    478\u001b[0m     \u001b[38;5;28;01mreturn\u001b[39;00m handle_torch_function(\n\u001b[1;32m    479\u001b[0m         Tensor\u001b[38;5;241m.\u001b[39mbackward,\n\u001b[1;32m    480\u001b[0m         (\u001b[38;5;28mself\u001b[39m,),\n\u001b[0;32m   (...)\u001b[0m\n\u001b[1;32m    485\u001b[0m         inputs\u001b[38;5;241m=\u001b[39minputs,\n\u001b[1;32m    486\u001b[0m     )\n\u001b[0;32m--> 487\u001b[0m \u001b[43mtorch\u001b[49m\u001b[38;5;241;43m.\u001b[39;49m\u001b[43mautograd\u001b[49m\u001b[38;5;241;43m.\u001b[39;49m\u001b[43mbackward\u001b[49m\u001b[43m(\u001b[49m\n\u001b[1;32m    488\u001b[0m \u001b[43m    \u001b[49m\u001b[38;5;28;43mself\u001b[39;49m\u001b[43m,\u001b[49m\u001b[43m \u001b[49m\u001b[43mgradient\u001b[49m\u001b[43m,\u001b[49m\u001b[43m \u001b[49m\u001b[43mretain_graph\u001b[49m\u001b[43m,\u001b[49m\u001b[43m \u001b[49m\u001b[43mcreate_graph\u001b[49m\u001b[43m,\u001b[49m\u001b[43m \u001b[49m\u001b[43minputs\u001b[49m\u001b[38;5;241;43m=\u001b[39;49m\u001b[43minputs\u001b[49m\n\u001b[1;32m    489\u001b[0m \u001b[43m\u001b[49m\u001b[43m)\u001b[49m\n",
      "File \u001b[0;32m~/amgimranov/RePlay/.venv/lib/python3.8/site-packages/torch/autograd/__init__.py:200\u001b[0m, in \u001b[0;36mbackward\u001b[0;34m(tensors, grad_tensors, retain_graph, create_graph, grad_variables, inputs)\u001b[0m\n\u001b[1;32m    195\u001b[0m     retain_graph \u001b[38;5;241m=\u001b[39m create_graph\n\u001b[1;32m    197\u001b[0m \u001b[38;5;66;03m# The reason we repeat same the comment below is that\u001b[39;00m\n\u001b[1;32m    198\u001b[0m \u001b[38;5;66;03m# some Python versions print out the first line of a multi-line function\u001b[39;00m\n\u001b[1;32m    199\u001b[0m \u001b[38;5;66;03m# calls in the traceback and some print out the last line\u001b[39;00m\n\u001b[0;32m--> 200\u001b[0m \u001b[43mVariable\u001b[49m\u001b[38;5;241;43m.\u001b[39;49m\u001b[43m_execution_engine\u001b[49m\u001b[38;5;241;43m.\u001b[39;49m\u001b[43mrun_backward\u001b[49m\u001b[43m(\u001b[49m\u001b[43m  \u001b[49m\u001b[38;5;66;43;03m# Calls into the C++ engine to run the backward pass\u001b[39;49;00m\n\u001b[1;32m    201\u001b[0m \u001b[43m    \u001b[49m\u001b[43mtensors\u001b[49m\u001b[43m,\u001b[49m\u001b[43m \u001b[49m\u001b[43mgrad_tensors_\u001b[49m\u001b[43m,\u001b[49m\u001b[43m \u001b[49m\u001b[43mretain_graph\u001b[49m\u001b[43m,\u001b[49m\u001b[43m \u001b[49m\u001b[43mcreate_graph\u001b[49m\u001b[43m,\u001b[49m\u001b[43m \u001b[49m\u001b[43minputs\u001b[49m\u001b[43m,\u001b[49m\n\u001b[1;32m    202\u001b[0m \u001b[43m    \u001b[49m\u001b[43mallow_unreachable\u001b[49m\u001b[38;5;241;43m=\u001b[39;49m\u001b[38;5;28;43;01mTrue\u001b[39;49;00m\u001b[43m,\u001b[49m\u001b[43m \u001b[49m\u001b[43maccumulate_grad\u001b[49m\u001b[38;5;241;43m=\u001b[39;49m\u001b[38;5;28;43;01mTrue\u001b[39;49;00m\u001b[43m)\u001b[49m\n",
      "\u001b[0;31mKeyboardInterrupt\u001b[0m: "
     ]
    }
   ],
   "source": [
    "from tqdm import tqdm\n",
    "\n",
    "nu_losses = []\n",
    "zeta_losses = []\n",
    "lambda_losses = []\n",
    "values = []\n",
    "\n",
    "for i, batch in enumerate(tqdm(loader, total=NUM_ITER)):\n",
    "    if i >= NUM_ITER:\n",
    "        break\n",
    "\n",
    "    batch = [b.to(DEVICE) for b in batch]\n",
    "\n",
    "    nu_loss, zeta_loss, lambda_loss = dice.train_batch(batch=batch, policy=policy)\n",
    "    nu_losses.append(nu_loss)\n",
    "    zeta_losses.append(zeta_loss)\n",
    "    lambda_losses.append(lambda_loss)\n",
    "\n",
    "    if i % EVAL_ITER  == 0 or i == (NUM_ITER - 1):\n",
    "        value = estimate_policy(data=dataset, print_zeta=True)\n",
    "        print(f'Value on iteration {i}: {value}')\n",
    "        values.append(value)"
   ]
  },
  {
   "cell_type": "markdown",
   "metadata": {},
   "source": [
    "* проверить правильно ли написан CartPole\n",
    "* еще раз посмотреть знаки + в целом логику лосса (можно переписать через одно число)\n",
    "* проверить opt.step() и backward()\n",
    "* логгировать градиенты\n",
    "* зафиксировать nu и посмотреть сходимость по zeta. она должна выучиваться, если ее нет, то что-то не так с градиентами\n",
    "* посмотреть выходы zeta\n",
    "* zero_reward\n",
    "* понять что мы получаем p или p_hat\n",
    "* понять что мы хотим получить"
   ]
  },
  {
   "cell_type": "code",
   "execution_count": 14,
   "metadata": {},
   "outputs": [
    {
     "data": {
      "image/png": "[encoded data removed]",
      "text/plain": [
       "<Figure size 1600x400 with 3 Axes>"
      ]
     },
     "metadata": {},
     "output_type": "display_data"
    }
   ],
   "source": [
    "plt.figure(figsize=(16, 4))\n",
    "plt.subplot(1, 3, 1)\n",
    "plt.plot(nu_losses)\n",
    "plt.title('nu loss')\n",
    "\n",
    "plt.subplot(1, 3, 2)\n",
    "plt.plot(zeta_losses)\n",
    "plt.title('zeta loss')\n",
    "\n",
    "plt.subplot(1, 3, 3)\n",
    "plt.plot(values)\n",
    "plt.title('values')\n",
    "\n",
    "plt.show()"
   ]
  },
  {
   "cell_type": "code",
   "execution_count": null,
   "metadata": {},
   "outputs": [
    {
     "data": {
      "text/plain": [
       "[9.474991798400879,\n",
       " 1.8831393122673035,\n",
       " 12.640719920396805,\n",
       " -5.971481144428253,\n",
       " -0.5734628140926361,\n",
       " 8.923543870449066,\n",
       " 7.580229938030243,\n",
       " 9.9191335439682,\n",
       " 9.990345925092697,\n",
       " 6.00968211889267]"
      ]
     },
     "execution_count": 15,
     "metadata": {},
     "output_type": "execute_result"
    }
   ],
   "source": [
    "values[-10:]"
   ]
  },
  {
   "cell_type": "code",
   "execution_count": null,
   "metadata": {},
   "outputs": [],
   "source": []
  }
 ],
 "metadata": {
  "kernelspec": {
   "display_name": ".venv",
   "language": "python",
   "name": "python3"
  },
  "language_info": {
   "codemirror_mode": {
    "name": "ipython",
    "version": 3
   },
   "file_extension": ".py",
   "mimetype": "text/x-python",
   "name": "python",
   "nbconvert_exporter": "python",
   "pygments_lexer": "ipython3",
   "version": "3.8.10"
  }
 },
 "nbformat": 4,
 "nbformat_minor": 2
}
