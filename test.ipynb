{
 "cells": [
  {
   "cell_type": "code",
   "execution_count": 1,
   "metadata": {},
   "outputs": [],
   "source": [
    "import torch"
   ]
  },
  {
   "cell_type": "code",
   "execution_count": 7,
   "metadata": {},
   "outputs": [
    {
     "name": "stderr",
     "output_type": "stream",
     "text": [
      "/tmp/ipykernel_969884/2118403627.py:1: FutureWarning: You are using `torch.load` with `weights_only=False` (the current default value), which uses the default pickle module implicitly. It is possible to construct malicious pickle data which will execute arbitrary code during unpickling (See https://github.com/pytorch/pytorch/blob/main/SECURITY.md#untrusted-models for more details). In a future release, the default value for `weights_only` will be flipped to `True`. This limits the functions that could be executed during unpickling. Arbitrary objects will no longer be allowed to be loaded via this mode unless they are explicitly allowlisted by the user via `torch.serialization.add_safe_globals`. We recommend you start setting `weights_only=True` for any use case where you don't have full control of the loaded file. Please open an issue on GitHub for any issues related to this experimental feature.\n",
      "  sasrec = torch.load('./models/sasrec.pt')\n"
     ]
    },
    {
     "data": {
      "text/plain": [
       "SASRec(\n",
       "  (item_emb): Embedding(3707, 64, padding_idx=3706)\n",
       "  (pos_emb): Embedding(250, 64)\n",
       "  (emb_dropout): Dropout(p=0.3, inplace=False)\n",
       "  (attention_layernorms): ModuleList(\n",
       "    (0-1): 2 x LayerNorm((64,), eps=1e-08, elementwise_affine=True)\n",
       "  )\n",
       "  (attention_layers): ModuleList(\n",
       "    (0-1): 2 x MultiheadAttention(\n",
       "      (out_proj): NonDynamicallyQuantizableLinear(in_features=64, out_features=64, bias=True)\n",
       "    )\n",
       "  )\n",
       "  (forward_layernorms): ModuleList(\n",
       "    (0-1): 2 x LayerNorm((64,), eps=1e-08, elementwise_affine=True)\n",
       "  )\n",
       "  (forward_layers): ModuleList(\n",
       "    (0-1): 2 x PointWiseFeedForward(\n",
       "      (conv1): Conv1d(64, 64, kernel_size=(1,), stride=(1,))\n",
       "      (dropout1): Dropout(p=0.3, inplace=False)\n",
       "      (relu): ReLU()\n",
       "      (conv2): Conv1d(64, 64, kernel_size=(1,), stride=(1,))\n",
       "      (dropout2): Dropout(p=0.3, inplace=False)\n",
       "    )\n",
       "  )\n",
       "  (last_layernorm): LayerNorm((64,), eps=1e-08, elementwise_affine=True)\n",
       ")"
      ]
     },
     "execution_count": 7,
     "metadata": {},
     "output_type": "execute_result"
    }
   ],
   "source": [
    "sasrec = torch.load('./models/sasrec.pt')\n",
    "sasrec.eval()"
   ]
  },
  {
   "cell_type": "code",
   "execution_count": 10,
   "metadata": {},
   "outputs": [
    {
     "name": "stdout",
     "output_type": "stream",
     "text": [
      "tensor([ 1.0851e+00, -3.7405e+00, -5.8994e-03,  2.1199e+00,  1.7653e+00,\n",
      "         2.2954e+00,  3.0546e-01, -1.7440e-01, -2.6056e+00, -2.9066e+00,\n",
      "         6.3883e+00,  4.1359e+00, -4.0015e+00, -8.1088e-01, -1.8491e+00,\n",
      "        -1.9835e+00,  1.9243e+00, -2.4449e+00,  4.3510e+00,  3.0249e+00,\n",
      "        -2.4100e+00,  3.9060e+00, -2.5442e+00,  4.0798e+00,  1.0663e+00,\n",
      "        -2.1409e+00, -4.8092e-01,  5.3747e-01,  8.8816e-01, -1.7038e-01,\n",
      "        -7.1003e-01,  4.0856e-01, -1.6188e+00,  2.8770e+00, -2.5680e+00,\n",
      "         2.4595e+00, -3.3470e+00, -8.5218e-01,  6.4336e-01, -1.1101e+00,\n",
      "         1.8170e+00,  9.6238e-01,  7.6236e-01,  9.5866e-01, -4.7763e+00,\n",
      "        -1.7836e+00, -1.3254e+00, -7.8069e-01,  4.1916e+00, -2.1033e+00,\n",
      "        -2.2024e+00, -5.8065e-02, -3.3423e-01,  1.4919e+00, -9.5403e-01,\n",
      "         1.9198e+00, -1.4068e+00, -8.8108e-01,  6.0658e-01, -3.1884e+00,\n",
      "        -1.3942e+00,  9.3280e-01,  3.7086e-01,  6.4360e-01])\n"
     ]
    }
   ],
   "source": [
    "with torch.no_grad():\n",
    "    s = torch.LongTensor([1159])\n",
    "    print(sasrec.score_with_state(s)[-1])"
   ]
  },
  {
   "cell_type": "code",
   "execution_count": null,
   "metadata": {},
   "outputs": [],
   "source": []
  },
  {
   "cell_type": "code",
   "execution_count": null,
   "metadata": {},
   "outputs": [],
   "source": []
  },
  {
   "cell_type": "code",
   "execution_count": null,
   "metadata": {},
   "outputs": [],
   "source": []
  }
 ],
 "metadata": {
  "kernelspec": {
   "display_name": "cql",
   "language": "python",
   "name": "python3"
  },
  "language_info": {
   "codemirror_mode": {
    "name": "ipython",
    "version": 3
   },
   "file_extension": ".py",
   "mimetype": "text/x-python",
   "name": "python",
   "nbconvert_exporter": "python",
   "pygments_lexer": "ipython3",
   "version": "3.11.10"
  }
 },
 "nbformat": 4,
 "nbformat_minor": 2
}
